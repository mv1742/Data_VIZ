{
 "cells": [
  {
   "cell_type": "markdown",
   "metadata": {},
   "source": [
    "# Visualize files\n",
    "- manhattan.geojson\n",
    "- requests.csv\n",
    "- vehicle_events.csv\n",
    "- vehicle_events_pnas.csv\n",
    "- vehicle_paths.csv\n",
    "- vehicle_paths.zip\n",
    "- vehicle_paths_pnas.csv"
   ]
  },
  {
   "cell_type": "code",
   "execution_count": 2,
   "metadata": {},
   "outputs": [
    {
     "name": "stdout",
     "output_type": "stream",
     "text": [
      "Populating the interactive namespace from numpy and matplotlib\n"
     ]
    }
   ],
   "source": [
    "import os\n",
    "import requests\n",
    "import shapely\n",
    "import json\n",
    "import matplotlib.pyplot as plt #plotting\n",
    "import pandas as pd\n",
    "import numpy as np\n",
    "import itertools\n",
    "import geopandas as gpd\n",
    "import pylab as pl\n",
    "import io\n",
    "import pylab as pl\n",
    "\n",
    "from geopandas.tools import sjoin\n",
    "try:\n",
    "    import ipywidgets as widgets\n",
    "    hasWidgets = True\n",
    "except ImportError:\n",
    "    hasWidgets = False\n",
    "%pylab inline"
   ]
  },
  {
   "cell_type": "markdown",
   "metadata": {},
   "source": [
    "# Requests"
   ]
  },
  {
   "cell_type": "code",
   "execution_count": 108,
   "metadata": {},
   "outputs": [],
   "source": [
    "requestspd = pd.read_csv('requests.csv')"
   ]
  },
  {
   "cell_type": "code",
   "execution_count": 109,
   "metadata": {},
   "outputs": [
    {
     "data": {
      "text/html": [
       "<div>\n",
       "<table border=\"1\" class=\"dataframe\">\n",
       "  <thead>\n",
       "    <tr style=\"text-align: right;\">\n",
       "      <th></th>\n",
       "      <th>Timestamp</th>\n",
       "      <th>Requested_Pickup</th>\n",
       "      <th>Requested_Dropoff</th>\n",
       "      <th>Actual_Pickup</th>\n",
       "      <th>Actual_Dropoff</th>\n",
       "    </tr>\n",
       "  </thead>\n",
       "  <tbody>\n",
       "    <tr>\n",
       "      <th>0</th>\n",
       "      <td>1380949200</td>\n",
       "      <td>1149</td>\n",
       "      <td>725</td>\n",
       "      <td>218</td>\n",
       "      <td>3601</td>\n",
       "    </tr>\n",
       "    <tr>\n",
       "      <th>1</th>\n",
       "      <td>1380949200</td>\n",
       "      <td>1225</td>\n",
       "      <td>1714</td>\n",
       "      <td>2003</td>\n",
       "      <td>3601</td>\n",
       "    </tr>\n",
       "    <tr>\n",
       "      <th>2</th>\n",
       "      <td>1380949200</td>\n",
       "      <td>1237</td>\n",
       "      <td>3143</td>\n",
       "      <td>1314</td>\n",
       "      <td>2218</td>\n",
       "    </tr>\n",
       "    <tr>\n",
       "      <th>3</th>\n",
       "      <td>1380949200</td>\n",
       "      <td>1323</td>\n",
       "      <td>3566</td>\n",
       "      <td>1330</td>\n",
       "      <td>2573</td>\n",
       "    </tr>\n",
       "    <tr>\n",
       "      <th>4</th>\n",
       "      <td>1380949200</td>\n",
       "      <td>1328</td>\n",
       "      <td>2466</td>\n",
       "      <td>1323</td>\n",
       "      <td>2473</td>\n",
       "    </tr>\n",
       "  </tbody>\n",
       "</table>\n",
       "</div>"
      ],
      "text/plain": [
       "    Timestamp  Requested_Pickup  Requested_Dropoff  Actual_Pickup  \\\n",
       "0  1380949200              1149                725            218   \n",
       "1  1380949200              1225               1714           2003   \n",
       "2  1380949200              1237               3143           1314   \n",
       "3  1380949200              1323               3566           1330   \n",
       "4  1380949200              1328               2466           1323   \n",
       "\n",
       "   Actual_Dropoff  \n",
       "0            3601  \n",
       "1            3601  \n",
       "2            2218  \n",
       "3            2573  \n",
       "4            2473  "
      ]
     },
     "execution_count": 109,
     "metadata": {},
     "output_type": "execute_result"
    }
   ],
   "source": [
    "requestspd.head()"
   ]
  },
  {
   "cell_type": "code",
   "execution_count": 110,
   "metadata": {},
   "outputs": [
    {
     "name": "stdout",
     "output_type": "stream",
     "text": [
      "3561\n"
     ]
    },
    {
     "data": {
      "text/plain": [
       "array([   0,    1,    2, ..., 4403, 4405, 4406])"
      ]
     },
     "execution_count": 110,
     "metadata": {},
     "output_type": "execute_result"
    }
   ],
   "source": [
    "print(len(requestspd.Requested_Pickup.sort_values().unique()))\n",
    "requestspd.Requested_Pickup.sort_values().unique()"
   ]
  },
  {
   "cell_type": "code",
   "execution_count": 111,
   "metadata": {},
   "outputs": [
    {
     "name": "stdout",
     "output_type": "stream",
     "text": [
      "3749\n"
     ]
    },
    {
     "data": {
      "text/plain": [
       "array([  -1,    0,    1, ..., 4406, 4409, 4410])"
      ]
     },
     "execution_count": 111,
     "metadata": {},
     "output_type": "execute_result"
    }
   ],
   "source": [
    "print(len(requestspd.Actual_Dropoff.sort_values().unique()))\n",
    "requestspd.Actual_Dropoff.sort_values().unique()"
   ]
  },
  {
   "cell_type": "markdown",
   "metadata": {},
   "source": [
    "# Vehicles"
   ]
  },
  {
   "cell_type": "code",
   "execution_count": 85,
   "metadata": {},
   "outputs": [],
   "source": [
    "vehicle_eventspd = pd.read_csv('vehicle_events.csv')\n",
    "vehicle_events_pnaspd = pd.read_csv('vehicle_events_pnas.csv')\n",
    "vehicle_pathspd = pd.read_csv('vehicle_paths.csv')\n",
    "vehicle_paths_pnaspd = pd.read_csv('vehicle_paths_pnas.csv')"
   ]
  },
  {
   "cell_type": "code",
   "execution_count": 86,
   "metadata": {},
   "outputs": [
    {
     "ename": "SyntaxError",
     "evalue": "invalid syntax (<ipython-input-86-6301f9e94567>, line 1)",
     "output_type": "error",
     "traceback": [
      "\u001b[0;36m  File \u001b[0;32m\"<ipython-input-86-6301f9e94567>\"\u001b[0;36m, line \u001b[0;32m1\u001b[0m\n\u001b[0;31m    print(vehicle_events_pnaspd.Requested_Stop_Intersection.unique()vehicle_eventspd.head()\u001b[0m\n\u001b[0m                                                                                   ^\u001b[0m\n\u001b[0;31mSyntaxError\u001b[0m\u001b[0;31m:\u001b[0m invalid syntax\n"
     ]
    }
   ],
   "source": [
    "print(vehicle_events_pnaspd.Requested_Stop_Intersection.unique()vehicle_eventspd.head()"
   ]
  },
  {
   "cell_type": "code",
   "execution_count": null,
   "metadata": {},
   "outputs": [],
   "source": [
    "vehicle_eventspd.head()"
   ]
  },
  {
   "cell_type": "code",
   "execution_count": null,
   "metadata": {},
   "outputs": [],
   "source": [
    "print(len(vehicle_eventspd.Requested_Stop_Intersection.sort_values().unique()))\n",
    "vehicle_eventspd.Requested_Stop_Intersection.sort_values().unique()"
   ]
  },
  {
   "cell_type": "code",
   "execution_count": null,
   "metadata": {},
   "outputs": [],
   "source": [
    "vehicle_events_pnaspd.Requested_Stop_Intersection.unique()"
   ]
  },
  {
   "cell_type": "code",
   "execution_count": null,
   "metadata": {},
   "outputs": [],
   "source": [
    "vehicle_pathspd.head()"
   ]
  },
  {
   "cell_type": "code",
   "execution_count": null,
   "metadata": {},
   "outputs": [],
   "source": [
    "vehicle_pathspd.Num_Passengers.unique()"
   ]
  },
  {
   "cell_type": "code",
   "execution_count": null,
   "metadata": {},
   "outputs": [],
   "source": []
  },
  {
   "cell_type": "code",
   "execution_count": null,
   "metadata": {},
   "outputs": [],
   "source": [
    "# vehicle_paths_pnaspd.head()\n",
    "vehicle_paths_pnaspd.Num_Passengers.unique()"
   ]
  },
  {
   "cell_type": "code",
   "execution_count": null,
   "metadata": {},
   "outputs": [],
   "source": [
    "manhattan = gpd.read_file('manhattan.geojson')"
   ]
  },
  {
   "cell_type": "code",
   "execution_count": null,
   "metadata": {},
   "outputs": [],
   "source": [
    "manhattan.id.unique()"
   ]
  },
  {
   "cell_type": "code",
   "execution_count": 87,
   "metadata": {},
   "outputs": [
    {
     "data": {
      "text/html": [
       "<div>\n",
       "<table border=\"1\" class=\"dataframe\">\n",
       "  <thead>\n",
       "    <tr style=\"text-align: right;\">\n",
       "      <th></th>\n",
       "      <th>id</th>\n",
       "      <th>w</th>\n",
       "      <th>geometry</th>\n",
       "    </tr>\n",
       "  </thead>\n",
       "  <tbody>\n",
       "    <tr>\n",
       "      <th>9624</th>\n",
       "      <td>9624</td>\n",
       "      <td>459</td>\n",
       "      <td>LINESTRING (-73.9326239 40.8632443, -73.933655...</td>\n",
       "    </tr>\n",
       "  </tbody>\n",
       "</table>\n",
       "</div>"
      ],
      "text/plain": [
       "        id    w                                           geometry\n",
       "9624  9624  459  LINESTRING (-73.9326239 40.8632443, -73.933655..."
      ]
     },
     "execution_count": 87,
     "metadata": {},
     "output_type": "execute_result"
    },
    {
     "data": {
      "image/png": "[encoded data removed]",
      "text/plain": [
       "<matplotlib.figure.Figure at 0x7f1eb7a1b2b0>"
      ]
     },
     "metadata": {},
     "output_type": "display_data"
    }
   ],
   "source": [
    "manhattan.plot(figsize=(2,2))\n",
    "manhattan.tail(1)"
   ]
  },
  {
   "cell_type": "markdown",
   "metadata": {},
   "source": [
    "# Problem 1"
   ]
  },
  {
   "cell_type": "markdown",
   "metadata": {},
   "source": [
    "1. What is the serving rate for each scenario throughout the day, comparing to the overall serving rate? Serving rate is the number of successfully matched trip in a period of time. For example, is the serving rate higher in the rush hour or at night"
   ]
  },
  {
   "cell_type": "code",
   "execution_count": 88,
   "metadata": {},
   "outputs": [],
   "source": [
    "# Successfull matched trup"
   ]
  },
  {
   "cell_type": "code",
   "execution_count": 89,
   "metadata": {},
   "outputs": [],
   "source": [
    "# Calculate time of the day"
   ]
  },
  {
   "cell_type": "code",
   "execution_count": 112,
   "metadata": {},
   "outputs": [],
   "source": [
    "requestspd['datetime'] = requestspd.Timestamp.astype('datetime64[s]')\n",
    "requestspd['hour_of_timestamp'] = requestspd['datetime'].dt.hour"
   ]
  },
  {
   "cell_type": "code",
   "execution_count": 122,
   "metadata": {},
   "outputs": [
    {
     "data": {
      "text/html": [
       "<div>\n",
       "<table border=\"1\" class=\"dataframe\">\n",
       "  <thead>\n",
       "    <tr style=\"text-align: right;\">\n",
       "      <th></th>\n",
       "      <th>Timestamp</th>\n",
       "      <th>Requested_Pickup</th>\n",
       "      <th>Requested_Dropoff</th>\n",
       "      <th>Actual_Pickup</th>\n",
       "      <th>Actual_Dropoff</th>\n",
       "      <th>datetime</th>\n",
       "      <th>hour_of_timestamp</th>\n",
       "      <th>Successfull</th>\n",
       "    </tr>\n",
       "  </thead>\n",
       "  <tbody>\n",
       "    <tr>\n",
       "      <th>383064</th>\n",
       "      <td>1381035597</td>\n",
       "      <td>1391</td>\n",
       "      <td>2536</td>\n",
       "      <td>1393</td>\n",
       "      <td>3993</td>\n",
       "      <td>2013-10-06 04:59:57</td>\n",
       "      <td>4</td>\n",
       "      <td>1.0</td>\n",
       "    </tr>\n",
       "    <tr>\n",
       "      <th>383065</th>\n",
       "      <td>1381035597</td>\n",
       "      <td>1649</td>\n",
       "      <td>3209</td>\n",
       "      <td>1650</td>\n",
       "      <td>3953</td>\n",
       "      <td>2013-10-06 04:59:57</td>\n",
       "      <td>4</td>\n",
       "      <td>1.0</td>\n",
       "    </tr>\n",
       "    <tr>\n",
       "      <th>383066</th>\n",
       "      <td>1381035597</td>\n",
       "      <td>450</td>\n",
       "      <td>3150</td>\n",
       "      <td>-1</td>\n",
       "      <td>-1</td>\n",
       "      <td>2013-10-06 04:59:57</td>\n",
       "      <td>4</td>\n",
       "      <td>NaN</td>\n",
       "    </tr>\n",
       "    <tr>\n",
       "      <th>383067</th>\n",
       "      <td>1381035598</td>\n",
       "      <td>2682</td>\n",
       "      <td>2369</td>\n",
       "      <td>-1</td>\n",
       "      <td>-1</td>\n",
       "      <td>2013-10-06 04:59:58</td>\n",
       "      <td>4</td>\n",
       "      <td>NaN</td>\n",
       "    </tr>\n",
       "    <tr>\n",
       "      <th>383068</th>\n",
       "      <td>1381035599</td>\n",
       "      <td>419</td>\n",
       "      <td>1391</td>\n",
       "      <td>4052</td>\n",
       "      <td>1396</td>\n",
       "      <td>2013-10-06 04:59:59</td>\n",
       "      <td>4</td>\n",
       "      <td>1.0</td>\n",
       "    </tr>\n",
       "  </tbody>\n",
       "</table>\n",
       "</div>"
      ],
      "text/plain": [
       "         Timestamp  Requested_Pickup  Requested_Dropoff  Actual_Pickup  \\\n",
       "383064  1381035597              1391               2536           1393   \n",
       "383065  1381035597              1649               3209           1650   \n",
       "383066  1381035597               450               3150             -1   \n",
       "383067  1381035598              2682               2369             -1   \n",
       "383068  1381035599               419               1391           4052   \n",
       "\n",
       "        Actual_Dropoff            datetime  hour_of_timestamp  Successfull  \n",
       "383064            3993 2013-10-06 04:59:57                  4          1.0  \n",
       "383065            3953 2013-10-06 04:59:57                  4          1.0  \n",
       "383066              -1 2013-10-06 04:59:57                  4          NaN  \n",
       "383067              -1 2013-10-06 04:59:58                  4          NaN  \n",
       "383068            1396 2013-10-06 04:59:59                  4          1.0  "
      ]
     },
     "execution_count": 122,
     "metadata": {},
     "output_type": "execute_result"
    }
   ],
   "source": [
    "requestspd.tail()"
   ]
  },
  {
   "cell_type": "code",
   "execution_count": 114,
   "metadata": {},
   "outputs": [],
   "source": [
    "requestspd['Successfull'] = requestspd.Actual_Pickup[requestspd.Actual_Pickup!=-1].apply(lambda x: 1)"
   ]
  },
  {
   "cell_type": "code",
   "execution_count": 115,
   "metadata": {},
   "outputs": [],
   "source": [
    "# requestspd.Actual_Pickup[requestspd.Actual_Pickup==-1].apply(lambda x: -x)"
   ]
  },
  {
   "cell_type": "code",
   "execution_count": 116,
   "metadata": {},
   "outputs": [
    {
     "data": {
      "text/html": [
       "<div>\n",
       "<table border=\"1\" class=\"dataframe\">\n",
       "  <thead>\n",
       "    <tr style=\"text-align: right;\">\n",
       "      <th></th>\n",
       "      <th>Timestamp</th>\n",
       "      <th>Requested_Pickup</th>\n",
       "      <th>Requested_Dropoff</th>\n",
       "      <th>Actual_Pickup</th>\n",
       "      <th>Actual_Dropoff</th>\n",
       "      <th>datetime</th>\n",
       "      <th>hour_of_timestamp</th>\n",
       "      <th>Successfull</th>\n",
       "    </tr>\n",
       "  </thead>\n",
       "  <tbody>\n",
       "    <tr>\n",
       "      <th>0</th>\n",
       "      <td>1380949200</td>\n",
       "      <td>1149</td>\n",
       "      <td>725</td>\n",
       "      <td>218</td>\n",
       "      <td>3601</td>\n",
       "      <td>2013-10-05 05:00:00</td>\n",
       "      <td>5</td>\n",
       "      <td>1.0</td>\n",
       "    </tr>\n",
       "    <tr>\n",
       "      <th>1</th>\n",
       "      <td>1380949200</td>\n",
       "      <td>1225</td>\n",
       "      <td>1714</td>\n",
       "      <td>2003</td>\n",
       "      <td>3601</td>\n",
       "      <td>2013-10-05 05:00:00</td>\n",
       "      <td>5</td>\n",
       "      <td>1.0</td>\n",
       "    </tr>\n",
       "    <tr>\n",
       "      <th>2</th>\n",
       "      <td>1380949200</td>\n",
       "      <td>1237</td>\n",
       "      <td>3143</td>\n",
       "      <td>1314</td>\n",
       "      <td>2218</td>\n",
       "      <td>2013-10-05 05:00:00</td>\n",
       "      <td>5</td>\n",
       "      <td>1.0</td>\n",
       "    </tr>\n",
       "    <tr>\n",
       "      <th>3</th>\n",
       "      <td>1380949200</td>\n",
       "      <td>1323</td>\n",
       "      <td>3566</td>\n",
       "      <td>1330</td>\n",
       "      <td>2573</td>\n",
       "      <td>2013-10-05 05:00:00</td>\n",
       "      <td>5</td>\n",
       "      <td>1.0</td>\n",
       "    </tr>\n",
       "    <tr>\n",
       "      <th>4</th>\n",
       "      <td>1380949200</td>\n",
       "      <td>1328</td>\n",
       "      <td>2466</td>\n",
       "      <td>1323</td>\n",
       "      <td>2473</td>\n",
       "      <td>2013-10-05 05:00:00</td>\n",
       "      <td>5</td>\n",
       "      <td>1.0</td>\n",
       "    </tr>\n",
       "  </tbody>\n",
       "</table>\n",
       "</div>"
      ],
      "text/plain": [
       "    Timestamp  Requested_Pickup  Requested_Dropoff  Actual_Pickup  \\\n",
       "0  1380949200              1149                725            218   \n",
       "1  1380949200              1225               1714           2003   \n",
       "2  1380949200              1237               3143           1314   \n",
       "3  1380949200              1323               3566           1330   \n",
       "4  1380949200              1328               2466           1323   \n",
       "\n",
       "   Actual_Dropoff            datetime  hour_of_timestamp  Successfull  \n",
       "0            3601 2013-10-05 05:00:00                  5          1.0  \n",
       "1            3601 2013-10-05 05:00:00                  5          1.0  \n",
       "2            2218 2013-10-05 05:00:00                  5          1.0  \n",
       "3            2573 2013-10-05 05:00:00                  5          1.0  \n",
       "4            2473 2013-10-05 05:00:00                  5          1.0  "
      ]
     },
     "execution_count": 116,
     "metadata": {},
     "output_type": "execute_result"
    }
   ],
   "source": [
    "requestspd.head()"
   ]
  },
  {
   "cell_type": "code",
   "execution_count": 117,
   "metadata": {},
   "outputs": [],
   "source": [
    "requestspd_sorted = requestspd.groupby(by='hour_of_timestamp').count()"
   ]
  },
  {
   "cell_type": "code",
   "execution_count": 118,
   "metadata": {},
   "outputs": [
    {
     "data": {
      "text/html": [
       "<div>\n",
       "<table border=\"1\" class=\"dataframe\">\n",
       "  <thead>\n",
       "    <tr style=\"text-align: right;\">\n",
       "      <th></th>\n",
       "      <th>Timestamp</th>\n",
       "      <th>Requested_Pickup</th>\n",
       "      <th>Requested_Dropoff</th>\n",
       "      <th>Actual_Pickup</th>\n",
       "      <th>Actual_Dropoff</th>\n",
       "      <th>datetime</th>\n",
       "      <th>Successfull</th>\n",
       "    </tr>\n",
       "    <tr>\n",
       "      <th>hour_of_timestamp</th>\n",
       "      <th></th>\n",
       "      <th></th>\n",
       "      <th></th>\n",
       "      <th></th>\n",
       "      <th></th>\n",
       "      <th></th>\n",
       "      <th></th>\n",
       "    </tr>\n",
       "  </thead>\n",
       "  <tbody>\n",
       "    <tr>\n",
       "      <th>19</th>\n",
       "      <td>19383</td>\n",
       "      <td>19383</td>\n",
       "      <td>19383</td>\n",
       "      <td>19383</td>\n",
       "      <td>19383</td>\n",
       "      <td>19383</td>\n",
       "      <td>8991</td>\n",
       "    </tr>\n",
       "    <tr>\n",
       "      <th>20</th>\n",
       "      <td>17988</td>\n",
       "      <td>17988</td>\n",
       "      <td>17988</td>\n",
       "      <td>17988</td>\n",
       "      <td>17988</td>\n",
       "      <td>17988</td>\n",
       "      <td>9365</td>\n",
       "    </tr>\n",
       "    <tr>\n",
       "      <th>21</th>\n",
       "      <td>14773</td>\n",
       "      <td>14773</td>\n",
       "      <td>14773</td>\n",
       "      <td>14773</td>\n",
       "      <td>14773</td>\n",
       "      <td>14773</td>\n",
       "      <td>9531</td>\n",
       "    </tr>\n",
       "    <tr>\n",
       "      <th>22</th>\n",
       "      <td>19137</td>\n",
       "      <td>19137</td>\n",
       "      <td>19137</td>\n",
       "      <td>19137</td>\n",
       "      <td>19137</td>\n",
       "      <td>19137</td>\n",
       "      <td>9145</td>\n",
       "    </tr>\n",
       "    <tr>\n",
       "      <th>23</th>\n",
       "      <td>25012</td>\n",
       "      <td>25012</td>\n",
       "      <td>25012</td>\n",
       "      <td>25012</td>\n",
       "      <td>25012</td>\n",
       "      <td>25012</td>\n",
       "      <td>8638</td>\n",
       "    </tr>\n",
       "  </tbody>\n",
       "</table>\n",
       "</div>"
      ],
      "text/plain": [
       "                   Timestamp  Requested_Pickup  Requested_Dropoff  \\\n",
       "hour_of_timestamp                                                   \n",
       "19                     19383             19383              19383   \n",
       "20                     17988             17988              17988   \n",
       "21                     14773             14773              14773   \n",
       "22                     19137             19137              19137   \n",
       "23                     25012             25012              25012   \n",
       "\n",
       "                   Actual_Pickup  Actual_Dropoff  datetime  Successfull  \n",
       "hour_of_timestamp                                                        \n",
       "19                         19383           19383     19383         8991  \n",
       "20                         17988           17988     17988         9365  \n",
       "21                         14773           14773     14773         9531  \n",
       "22                         19137           19137     19137         9145  \n",
       "23                         25012           25012     25012         8638  "
      ]
     },
     "execution_count": 118,
     "metadata": {},
     "output_type": "execute_result"
    }
   ],
   "source": [
    "requestspd_sorted.tail()"
   ]
  },
  {
   "cell_type": "code",
   "execution_count": 119,
   "metadata": {},
   "outputs": [],
   "source": [
    "requestspd_sorted['serving rate'] = requestspd_sorted.Successfull/requestspd_sorted.Actual_Pickup"
   ]
  },
  {
   "cell_type": "code",
   "execution_count": 120,
   "metadata": {},
   "outputs": [
    {
     "data": {
      "text/plain": [
       "<matplotlib.axes._subplots.AxesSubplot at 0x7f1eb7a408d0>"
      ]
     },
     "execution_count": 120,
     "metadata": {},
     "output_type": "execute_result"
    },
    {
     "data": {
      "image/png": "[encoded data removed]",
      "text/plain": [
       "<matplotlib.figure.Figure at 0x7f1eb7abe320>"
      ]
     },
     "metadata": {},
     "output_type": "display_data"
    }
   ],
   "source": [
    "requestspd_sorted['serving rate'].plot()"
   ]
  },
  {
   "cell_type": "code",
   "execution_count": null,
   "metadata": {},
   "outputs": [],
   "source": []
  },
  {
   "cell_type": "code",
   "execution_count": null,
   "metadata": {},
   "outputs": [],
   "source": []
  },
  {
   "cell_type": "code",
   "execution_count": null,
   "metadata": {},
   "outputs": [],
   "source": []
  },
  {
   "cell_type": "code",
   "execution_count": null,
   "metadata": {},
   "outputs": [],
   "source": []
  },
  {
   "cell_type": "code",
   "execution_count": null,
   "metadata": {},
   "outputs": [],
   "source": []
  },
  {
   "cell_type": "markdown",
   "metadata": {},
   "source": [
    "# Problem 2"
   ]
  },
  {
   "cell_type": "markdown",
   "metadata": {},
   "source": [
    "2.For  those  trips  thatcould  not  be  served,  do  they  follow  a  spatial  or  temporal  pattern?  For  example, are most of those trips originated in particular regions, and of certain times?\n",
    "\n",
    "3.For  the  entire  simulation,  we  limit  vehicle  speed  to  under  25mph.  Could  you  see  any  vehicle  travel exceeded those limits? If so, could you show us where (and potentially how) that happen?"
   ]
  },
  {
   "cell_type": "markdown",
   "metadata": {},
   "source": [
    "4.We also limit vehicle capacity to at most 4 passengers. Were there vehicles violating this condition? If so, can you show any pattern about these vehicles? For example, how many of them were violating, and where were they distributed in both time and space?\n",
    "\n",
    "5.What  can  we  learn  about  the  vehicle  utilization?  Are  most  of  them  empty,  or  with  1,  2,  3  or  4 passengers?  Are  there  particular  vehicles  that  tend  to  ride  with  more  passengers  than  others?  If  so, how are they distributedin space and time.\n",
    "\n",
    "6.Are most vehicle moving or idling? In which part of the city that we see vehicle idling/moving more often?  For  example,  are  there  any  “dead  zone”  where  a  vehicle  just  drops  off  passengers,  and  stay idling forever?\n",
    "\n",
    "7.We  want  to  understand  the  trends  among  vehicles  in  term  distance  travel,  average  number  of passengers,  the  number  of  revenue  trips  (a  pair  of  pickup/dropoff),  the  number  of  rebalance  trips (stops  with  0  passengers  but  positive  duration),  and  idling  time.  How  can  you  help  us  explore  this trends?\n",
    "\n",
    "8.If we are to pick a particular vehicle ID, how can we effectively illustrate its activities throughout the day?"
   ]
  },
  {
   "cell_type": "code",
   "execution_count": null,
   "metadata": {},
   "outputs": [],
   "source": []
  },
  {
   "cell_type": "code",
   "execution_count": null,
   "metadata": {},
   "outputs": [],
   "source": []
  },
  {
   "cell_type": "code",
   "execution_count": null,
   "metadata": {},
   "outputs": [],
   "source": []
  },
  {
   "cell_type": "code",
   "execution_count": null,
   "metadata": {},
   "outputs": [],
   "source": []
  },
  {
   "cell_type": "code",
   "execution_count": null,
   "metadata": {},
   "outputs": [],
   "source": []
  },
  {
   "cell_type": "code",
   "execution_count": null,
   "metadata": {},
   "outputs": [],
   "source": []
  }
 ],
 "metadata": {
  "kernelspec": {
   "display_name": "PUI2016_Python3",
   "language": "python",
   "name": "pui2016_python3"
  },
  "language_info": {
   "codemirror_mode": {
    "name": "ipython",
    "version": 3
   },
   "file_extension": ".py",
   "mimetype": "text/x-python",
   "name": "python",
   "nbconvert_exporter": "python",
   "pygments_lexer": "ipython3",
   "version": "3.5.4"
  }
 },
 "nbformat": 4,
 "nbformat_minor": 2
}
